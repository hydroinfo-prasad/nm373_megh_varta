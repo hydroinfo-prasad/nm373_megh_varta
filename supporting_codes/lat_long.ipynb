{
 "cells": [
  {
   "cell_type": "code",
   "execution_count": 12,
   "metadata": {},
   "outputs": [
    {
     "name": "stdout",
     "output_type": "stream",
     "text": [
      "Kanpur, NH34, Kidwai Nagar, Kanpur, Kanpur Nagar, Uttar Pradesh, 208012, India \n",
      " lattitude:  26.4609135 \n",
      " longitude:  80.3217588\n"
     ]
    }
   ],
   "source": [
    "from geopy.geocoders import Nominatim\n",
    "geolocator = Nominatim(user_agent=\"megh_varta\")\n",
    "\n",
    "#change city if you want different coordinates\n",
    "city = \"kanpur\"\n",
    "location = geolocator.geocode(city)\n",
    "city, lat, lon = location.raw['display_name'], location.raw['lat'], location.raw['lon']\n",
    "print(city, '\\n', \"lattitude: \", lat, '\\n', \"longitude: \", lon)"
   ]
  }
 ],
 "metadata": {
  "kernelspec": {
   "display_name": "ds",
   "language": "python",
   "name": "ds"
  },
  "language_info": {
   "codemirror_mode": {
    "name": "ipython",
    "version": 3
   },
   "file_extension": ".py",
   "mimetype": "text/x-python",
   "name": "python",
   "nbconvert_exporter": "python",
   "pygments_lexer": "ipython3",
   "version": "3.8.3"
  }
 },
 "nbformat": 4,
 "nbformat_minor": 4
}
