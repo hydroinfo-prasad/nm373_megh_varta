{
  "nbformat": 4,
  "nbformat_minor": 0,
  "metadata": {
    "colab": {
      "name": "MOSDAC_auto_download.ipynb",
      "provenance": [],
      "collapsed_sections": []
    },
    "kernelspec": {
      "name": "python3",
      "display_name": "Python 3"
    }
  },
  "cells": [
    {
      "cell_type": "code",
      "metadata": {
        "id": "4amkUXzT_Qfl",
        "colab_type": "code",
        "colab": {
          "base_uri": "https://localhost:8080/",
          "height": 34
        },
        "outputId": "388340d6-9557-401c-da53-dda51d6a803d"
      },
      "source": [
        "import glob\n",
        "from PIL import Image\n",
        "import matplotlib.pyplot as plt\n",
        "import numpy as np\n",
        "import h5py\n",
        "from zipfile import ZipFile\n",
        "import gdal\n",
        "from osgeo import gdal\n",
        "import os\n",
        "from ftplib import FTP\n",
        "from osgeo import ogr, gdal\n",
        "\n",
        "print('Libraries imported')"
      ],
      "execution_count": null,
      "outputs": [
        {
          "output_type": "stream",
          "text": [
            "Libraries imported\n"
          ],
          "name": "stdout"
        }
      ]
    },
    {
      "cell_type": "code",
      "metadata": {
        "id": "j8nlNdmO7JIb",
        "colab_type": "code",
        "colab": {}
      },
      "source": [
        "username = '' #Input username here\n",
        "password = '' #Input username here\n"
      ],
      "execution_count": null,
      "outputs": []
    },
    {
      "cell_type": "code",
      "metadata": {
        "id": "w7RwaJpr3knc",
        "colab_type": "code",
        "colab": {
          "base_uri": "https://localhost:8080/",
          "height": 51
        },
        "outputId": "0e774d90-8da8-4178-9b03-6ecc51efe3a1"
      },
      "source": [
        "ftp = FTP()\n",
        "ftp.connect('ftp.mosdac.gov.in', 21)\n",
        "ftp.login(username,password)\n",
        "ftp.retrlines(\"LIST\")\n",
        "print('Go to next cell')"
      ],
      "execution_count": null,
      "outputs": [
        {
          "output_type": "stream",
          "text": [
            "drwxr-xr-x    3 0        0            4096 Mar 05 08:24 Order\n",
            "Go to next cell\n"
          ],
          "name": "stdout"
        }
      ]
    },
    {
      "cell_type": "code",
      "metadata": {
        "id": "U7czHaQ25s4q",
        "colab_type": "code",
        "colab": {
          "base_uri": "https://localhost:8080/",
          "height": 34
        },
        "outputId": "fc8b591e-a977-4d4a-ad65-b1fb72a644bd"
      },
      "source": [
        "ftp.dir()"
      ],
      "execution_count": null,
      "outputs": [
        {
          "output_type": "stream",
          "text": [
            "drwxr-xr-x    3 0        0            4096 Mar 05 08:24 Order\n"
          ],
          "name": "stdout"
        }
      ]
    },
    {
      "cell_type": "code",
      "metadata": {
        "id": "SGAAVBkC52Q5",
        "colab_type": "code",
        "colab": {
          "base_uri": "https://localhost:8080/",
          "height": 34
        },
        "outputId": "a2b3addd-e5a8-41b2-ae33-f6ec5b869d6a"
      },
      "source": [
        "ftp.cwd('Order')\n",
        "ftp.pwd()\n",
        "ftp.dir()"
      ],
      "execution_count": null,
      "outputs": [
        {
          "output_type": "stream",
          "text": [
            "drwxr-xr-x    2 0        0            8192 Mar 05 08:27 Mar20_059265\n"
          ],
          "name": "stdout"
        }
      ]
    },
    {
      "cell_type": "code",
      "metadata": {
        "id": "WhIWbZRp79Sf",
        "colab_type": "code",
        "colab": {
          "base_uri": "https://localhost:8080/",
          "height": 782
        },
        "outputId": "1ac443fb-1483-48ef-a2ca-66da991d53b1"
      },
      "source": [
        "ftp.cwd('Mar20_059265')\n",
        "ftp.pwd()\n",
        "ftp.dir()"
      ],
      "execution_count": null,
      "outputs": [
        {
          "output_type": "stream",
          "text": [
            "-rw-r--r--    1 0        0          794866 Mar 05 08:24 3DIMG_07NOV2019_0000_L2B_CMK_CMK.tif\n",
            "-rw-r--r--    1 0        0          797436 Mar 05 08:24 3DIMG_07NOV2019_0030_L2B_CMK_CMK.tif\n",
            "-rw-r--r--    1 0        0          795533 Mar 05 08:24 3DIMG_07NOV2019_0100_L2B_CMK_CMK.tif\n",
            "-rw-r--r--    1 0        0          788948 Mar 05 08:24 3DIMG_07NOV2019_0130_L2B_CMK_CMK.tif\n",
            "-rw-r--r--    1 0        0          790983 Mar 05 08:24 3DIMG_07NOV2019_0200_L2B_CMK_CMK.tif\n",
            "-rw-r--r--    1 0        0          785626 Mar 05 08:24 3DIMG_07NOV2019_0230_L2B_CMK_CMK.tif\n",
            "-rw-r--r--    1 0        0          792345 Mar 05 08:24 3DIMG_07NOV2019_0300_L2B_CMK_CMK.tif\n",
            "-rw-r--r--    1 0        0          779977 Mar 05 08:24 3DIMG_07NOV2019_0330_L2B_CMK_CMK.tif\n",
            "-rw-r--r--    1 0        0          777272 Mar 05 08:24 3DIMG_07NOV2019_0400_L2B_CMK_CMK.tif\n",
            "-rw-r--r--    1 0        0          776842 Mar 05 08:24 3DIMG_07NOV2019_0430_L2B_CMK_CMK.tif\n",
            "-rw-r--r--    1 0        0          779474 Mar 05 08:24 3DIMG_07NOV2019_0500_L2B_CMK_CMK.tif\n",
            "-rw-r--r--    1 0        0          769734 Mar 05 08:24 3DIMG_07NOV2019_0530_L2B_CMK_CMK.tif\n",
            "-rw-r--r--    1 0        0          776965 Mar 05 08:25 3DIMG_07NOV2019_0600_L2B_CMK_CMK.tif\n",
            "-rw-r--r--    1 0        0          773604 Mar 05 08:25 3DIMG_07NOV2019_0630_L2B_CMK_CMK.tif\n",
            "-rw-r--r--    1 0        0          770699 Mar 05 08:25 3DIMG_07NOV2019_0700_L2B_CMK_CMK.tif\n",
            "-rw-r--r--    1 0        0          771077 Mar 05 08:25 3DIMG_07NOV2019_0730_L2B_CMK_CMK.tif\n",
            "-rw-r--r--    1 0        0          771123 Mar 05 08:25 3DIMG_07NOV2019_0800_L2B_CMK_CMK.tif\n",
            "-rw-r--r--    1 0        0          770681 Mar 05 08:25 3DIMG_07NOV2019_0830_L2B_CMK_CMK.tif\n",
            "-rw-r--r--    1 0        0          764464 Mar 05 08:25 3DIMG_07NOV2019_0859_L2B_CMK_CMK.tif\n",
            "-rw-r--r--    1 0        0          764486 Mar 05 08:25 3DIMG_07NOV2019_0900_L2B_CMK_CMK.tif\n",
            "-rw-r--r--    1 0        0          768762 Mar 05 08:25 3DIMG_07NOV2019_0929_L2B_CMK_CMK.tif\n",
            "-rw-r--r--    1 0        0          764608 Mar 05 08:25 3DIMG_07NOV2019_0930_L2B_CMK_CMK.tif\n",
            "-rw-r--r--    1 0        0          770251 Mar 05 08:25 3DIMG_07NOV2019_0959_L2B_CMK_CMK.tif\n",
            "-rw-r--r--    1 0        0          770897 Mar 05 08:25 3DIMG_07NOV2019_1000_L2B_CMK_CMK.tif\n",
            "-rw-r--r--    1 0        0          777678 Mar 05 08:26 3DIMG_07NOV2019_1030_L2B_CMK_CMK.tif\n",
            "-rw-r--r--    1 0        0          778424 Mar 05 08:26 3DIMG_07NOV2019_1100_L2B_CMK_CMK.tif\n",
            "-rw-r--r--    1 0        0          779273 Mar 05 08:26 3DIMG_07NOV2019_1130_L2B_CMK_CMK.tif\n",
            "-rw-r--r--    1 0        0          787155 Mar 05 08:26 3DIMG_07NOV2019_1200_L2B_CMK_CMK.tif\n",
            "-rw-r--r--    1 0        0          777145 Mar 05 08:26 3DIMG_07NOV2019_1230_L2B_CMK_CMK.tif\n",
            "-rw-r--r--    1 0        0          776038 Mar 05 08:26 3DIMG_07NOV2019_1300_L2B_CMK_CMK.tif\n",
            "-rw-r--r--    1 0        0          788139 Mar 05 08:26 3DIMG_07NOV2019_1330_L2B_CMK_CMK.tif\n",
            "-rw-r--r--    1 0        0          788536 Mar 05 08:26 3DIMG_07NOV2019_1400_L2B_CMK_CMK.tif\n",
            "-rw-r--r--    1 0        0          773652 Mar 05 08:26 3DIMG_07NOV2019_1430_L2B_CMK_CMK.tif\n",
            "-rw-r--r--    1 0        0          785213 Mar 05 08:26 3DIMG_07NOV2019_1500_L2B_CMK_CMK.tif\n",
            "-rw-r--r--    1 0        0          783843 Mar 05 08:26 3DIMG_07NOV2019_1530_L2B_CMK_CMK.tif\n",
            "-rw-r--r--    1 0        0          779902 Mar 05 08:27 3DIMG_07NOV2019_1600_L2B_CMK_CMK.tif\n",
            "-rw-r--r--    1 0        0          781822 Mar 05 08:27 3DIMG_07NOV2019_1630_L2B_CMK_CMK.tif\n",
            "-rw-r--r--    1 0        0          816078 Mar 05 08:27 3DIMG_07NOV2019_2000_L2B_CMK_CMK.tif\n",
            "-rw-r--r--    1 0        0          815662 Mar 05 08:27 3DIMG_07NOV2019_2030_L2B_CMK_CMK.tif\n",
            "-rw-r--r--    1 0        0          807180 Mar 05 08:27 3DIMG_07NOV2019_2100_L2B_CMK_CMK.tif\n",
            "-rw-r--r--    1 0        0          792859 Mar 05 08:27 3DIMG_07NOV2019_2130_L2B_CMK_CMK.tif\n",
            "-rw-r--r--    1 0        0          796788 Mar 05 08:27 3DIMG_07NOV2019_2200_L2B_CMK_CMK.tif\n",
            "-rw-r--r--    1 0        0          803385 Mar 05 08:27 3DIMG_07NOV2019_2230_L2B_CMK_CMK.tif\n",
            "-rw-r--r--    1 0        0          803790 Mar 05 08:27 3DIMG_07NOV2019_2300_L2B_CMK_CMK.tif\n",
            "-rw-r--r--    1 0        0          807539 Mar 05 08:27 3DIMG_07NOV2019_2330_L2B_CMK_CMK.tif\n"
          ],
          "name": "stdout"
        }
      ]
    },
    {
      "cell_type": "code",
      "metadata": {
        "id": "rF_RdX1wBCFl",
        "colab_type": "code",
        "colab": {}
      },
      "source": [
        "\"\"\"Function to crop the input tif image with reference input shape file and\n",
        "resample to the given resolution\n",
        "INPUTS \n",
        "InputImage - tif image as a raster\n",
        "Shapefile - Reference shapefile, the supporting files should also be present in the directory\n",
        "PixelRes - Resolution of pixel, with default values as 0.03353227354096834784, that \n",
        "results in an image with ncol,nrow as 984,1074\n",
        "\n",
        "Outputs - An cropped image is saved in the library with a word '_cropped' appeneded to the original name \n",
        "\"\"\"\n",
        "\n",
        "def crop_resample(InputImage,Shapefile,PixelRes = 0.03353227354096834784):\n",
        "    RasterFormat = 'GTiff'\n",
        "    VectorFormat = 'ESRI Shapefile'\n",
        "    # Open datasets\n",
        "    Raster = gdal.Open(InputImage, gdal.GA_ReadOnly)\n",
        "    #print(type(Raster))\n",
        "    Projection = Raster.GetProjectionRef()\n",
        "\n",
        "    VectorDriver = ogr.GetDriverByName(VectorFormat)\n",
        "    VectorDataset = VectorDriver.Open(Shapefile, 0) # 0=Read-only, 1=Read-Write\n",
        "    #print(type(VectorDataset))\n",
        "\n",
        "    layer = VectorDataset.GetLayer()\n",
        "\n",
        "    feature =layer.GetFeature(0)\n",
        "    # Iterate through the shapefile features\n",
        "    #print(type(layer))\n",
        "    geom = feature.GetGeometryRef() \n",
        "    minX, maxX, minY, maxY = geom.GetEnvelope() # Get bounding box of the shapefile feature\n",
        "\n",
        "    # Create raster\n",
        "    OutTileName = str(InputImage)+'_cropped.tif'\n",
        "    OutTile = gdal.Warp(OutTileName, Raster, format=RasterFormat, outputBounds=[minX, minY, maxX, maxY], xRes=PixelRes, yRes=PixelRes, dstSRS=Projection, resampleAlg=gdal.GRA_Bilinear, options=['COMPRESS=DEFLATE'])\n",
        "    OutTile = None # Close dataset\n",
        "\n",
        "    # Close datasets\n",
        "    Raster = None\n",
        "    VectorDataset.Destroy()\n",
        "    print(OutTileName+\"  Created\")\n",
        "\n"
      ],
      "execution_count": null,
      "outputs": []
    },
    {
      "cell_type": "code",
      "metadata": {
        "id": "2GHAk2yX6rNl",
        "colab_type": "code",
        "colab": {
          "base_uri": "https://localhost:8080/",
          "height": 163
        },
        "outputId": "275ae3c0-dc98-4a65-abeb-b4f8d2de0e0a"
      },
      "source": [
        "ftp.quit()"
      ],
      "execution_count": null,
      "outputs": [
        {
          "output_type": "error",
          "ename": "AttributeError",
          "evalue": "ignored",
          "traceback": [
            "\u001b[0;31m---------------------------------------------------------------------------\u001b[0m",
            "\u001b[0;31mAttributeError\u001b[0m                            Traceback (most recent call last)",
            "\u001b[0;32m<ipython-input-4-c0b658391514>\u001b[0m in \u001b[0;36m<module>\u001b[0;34m()\u001b[0m\n\u001b[0;32m----> 1\u001b[0;31m \u001b[0mhelp\u001b[0m\u001b[0;34m(\u001b[0m\u001b[0mgdal\u001b[0m\u001b[0;34m.\u001b[0m\u001b[0mWrap\u001b[0m\u001b[0;34m)\u001b[0m\u001b[0;34m\u001b[0m\u001b[0;34m\u001b[0m\u001b[0m\n\u001b[0m",
            "\u001b[0;31mAttributeError\u001b[0m: module 'osgeo.gdal' has no attribute 'Wrap'"
          ]
        }
      ]
    },
    {
      "cell_type": "code",
      "metadata": {
        "id": "65UXbYCU3Byy",
        "colab_type": "code",
        "colab": {}
      },
      "source": [
        ""
      ],
      "execution_count": null,
      "outputs": []
    },
    {
      "cell_type": "markdown",
      "metadata": {
        "id": "APTehR-P_A7H",
        "colab_type": "text"
      },
      "source": [
        "https://gis.stackexchange.com/questions/203664/clipping-tiff-raster-image-using-bounding-box-with-gdal-in-python\n"
      ]
    },
    {
      "cell_type": "code",
      "metadata": {
        "id": "YxkBqpZ-7slj",
        "colab_type": "code",
        "colab": {}
      },
      "source": [
        ""
      ],
      "execution_count": null,
      "outputs": []
    }
  ]
}