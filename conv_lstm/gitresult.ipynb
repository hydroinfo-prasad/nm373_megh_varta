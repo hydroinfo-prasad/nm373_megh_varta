{
 "cells": [
  {
   "cell_type": "code",
   "execution_count": 2,
   "metadata": {},
   "outputs": [],
   "source": [
    "from matplotlib.pyplot import imshow\n",
    "import numpy as np\n",
    "from PIL import Image\n",
    "import torch\n",
    "import os\n",
    "import sys\n",
    "#sys.path.append(\"/home/prasad/pytorch-unet/\")\n",
    "from pre_process import Preprocessed_additional_data\n",
    "from pre_process import Preprocessed_1day_data\n",
    "from pre_process import read1day_data"
   ]
  },
  {
   "cell_type": "code",
   "execution_count": 1,
   "metadata": {},
   "outputs": [],
   "source": [
    "from tensorflow import keras\n",
    "model = keras.models.load_model(\"/home/prasad/git/conv_lstm/visconv_h984_w3_1_loss_345.h5\" )\n",
    "#tuned_27_9_conv_h984_w3_9_additionald_2_loss_tr1224_v651.h5 602.13855 w=3 no ad\n",
    "#conv_h984_w3_9_additionald_2_loss_tr1224_v651.h5            644.6068  w=2 no ad2\n",
    "\n",
    "#conv_h984_norm_w5_8_loss_ 0_1398t_0_0828.h5    w=5  no8  886.1269     \n",
    "#conv_h984_w6_7_loss_1588t_820v.h5              w=6  no7  828.2111\n",
    "#conv_h984_w5_6_loss_1585t_818v.h5              w=5  no6  888.12665\n",
    "#conv_h984_w4_5_loss_1274.h5                    w=4  no5  807.4869\n",
    "#conv_h984_w3_4_loss_1443.h5                    w=3  no4  726.41455\n"
   ]
  },
  {
   "cell_type": "code",
   "execution_count": 3,
   "metadata": {},
   "outputs": [],
   "source": [
    "dir_path='/home/prasad/pytorch-unet/INSAT3D_VIS_India/'\n",
    "\n",
    "\n",
    "#X,y,verify=read1day_data(dir_path=dir_path,inp_seq_len=3,pred_frame=1,normalized_output='no')\n",
    "X,y,maxx,minn,verify=Preprocessed_1day_data(dir_path,normalization_type='scaling',inp_seq_len=3,pred_frame=1,normalized_output='no')"
   ]
  },
  {
   "cell_type": "code",
   "execution_count": 8,
   "metadata": {},
   "outputs": [],
   "source": [
    "def mse_on1day(model,X,y,mean=0,std_dev=0,normalized_output='no'):   #\n",
    "    MSE=[]\n",
    "    i=0\n",
    "    for imgs in X:\n",
    "        inp=imgs\n",
    "        inp= np.reshape(inp,(1,inp.shape[0],inp.shape[1],inp.shape[2],inp.shape[3]))\n",
    "        pred= model.predict(inp)\n",
    "        pred= np.reshape(pred, (pred.shape[0],pred.shape[1],pred.shape[2]))\n",
    "        output=pred[0]\n",
    "        if normalized_output==\"yes\":\n",
    "            output = output*std_dev + mean  \n",
    "            \n",
    "        ground_truth=y[i]\n",
    "        ground_truth=np.reshape(ground_truth,(ground_truth.shape[0],ground_truth.shape[1]))\n",
    "        mse = ((output-ground_truth)**2).mean()\n",
    "        #print(inp.shape,pred.shape,output.shape,ground_truth.shape,mse)\n",
    "        MSE.append(mse)\n",
    "\n",
    "        i=i+1\n",
    "    return MSE"
   ]
  },
  {
   "cell_type": "code",
   "execution_count": 9,
   "metadata": {},
   "outputs": [],
   "source": [
    "mse=mse_on1day(model,X,y)"
   ]
  },
  {
   "cell_type": "code",
   "execution_count": 10,
   "metadata": {},
   "outputs": [
    {
     "data": {
      "text/plain": [
       "[449.29514,\n",
       " 621.6222,\n",
       " 836.2679,\n",
       " 1048.8015,\n",
       " 1263.7893,\n",
       " 1398.4438,\n",
       " 1537.8429,\n",
       " 1678.0725,\n",
       " 1749.5332,\n",
       " 1754.2477,\n",
       " 1641.3884,\n",
       " 1488.946,\n",
       " 1311.8076,\n",
       " 1205.5815,\n",
       " 987.25494,\n",
       " 718.0847,\n",
       " 500.7884,\n",
       " 334.7693,\n",
       " 215.69487,\n",
       " 126.03116,\n",
       " 75.85275,\n",
       " 32.869514,\n",
       " 12.674273,\n",
       " 5.0171967,\n",
       " 3.0881302,\n",
       " 2.545144,\n",
       " 2.6136253,\n",
       " 3.1254084,\n",
       " 4.810268,\n",
       " 8.584832,\n",
       " 21.18128,\n",
       " 2.2066512,\n",
       " 3.0286674,\n",
       " 2.0715733,\n",
       " 5.0379763,\n",
       " 8.672766]"
      ]
     },
     "execution_count": 10,
     "metadata": {},
     "output_type": "execute_result"
    }
   ],
   "source": [
    "mse "
   ]
  },
  {
   "cell_type": "code",
   "execution_count": 11,
   "metadata": {},
   "outputs": [],
   "source": [
    "def bmse_on1day(X,y,mean=0,std_dev=0):   #\n",
    "\n",
    "    MSE=[]\n",
    "    i=0\n",
    "    for imgs in X:\n",
    "        inp=imgs\n",
    "        inp=imgs[-1]\n",
    "        inp=np.reshape(inp,(inp.shape[0],inp.shape[1]))\n",
    "     \n",
    "            \n",
    "        ground_truth=y[i]\n",
    "        ground_truth=np.reshape(ground_truth,(ground_truth.shape[0],ground_truth.shape[1]))\n",
    "        mse = ((inp-ground_truth)**2).mean()\n",
    "        #print(inp.shape,pred.shape,output.shape,ground_truth.shape,mse)\n",
    "        MSE.append(mse)\n",
    "\n",
    "        i=i+1\n",
    "    return MSE"
   ]
  },
  {
   "cell_type": "code",
   "execution_count": 12,
   "metadata": {},
   "outputs": [
    {
     "data": {
      "text/plain": [
       "[468.8575,\n",
       " 598.53204,\n",
       " 790.58356,\n",
       " 969.23553,\n",
       " 1098.8923,\n",
       " 1311.247,\n",
       " 1405.9524,\n",
       " 1447.9839,\n",
       " 1611.856,\n",
       " 1686.538,\n",
       " 1718.8212,\n",
       " 1757.1769,\n",
       " 1616.449,\n",
       " 1850.8038,\n",
       " 1578.8099,\n",
       " 1515.6066,\n",
       " 1246.5443,\n",
       " 985.46875,\n",
       " 769.22754,\n",
       " 469.41855,\n",
       " 277.7273,\n",
       " 125.54673,\n",
       " 45.545094,\n",
       " 15.316513,\n",
       " 3.252323,\n",
       " 2.8435876,\n",
       " 2.797083,\n",
       " 2.7995896,\n",
       " 3.8849242,\n",
       " 7.182833,\n",
       " 18.974054,\n",
       " 3.0296211,\n",
       " 2.6751401,\n",
       " 2.6952772,\n",
       " 2.9315066,\n",
       " 8.921081]"
      ]
     },
     "execution_count": 12,
     "metadata": {},
     "output_type": "execute_result"
    }
   ],
   "source": [
    "bmse_on1day(X,y)"
   ]
  },
  {
   "cell_type": "code",
   "execution_count": null,
   "metadata": {},
   "outputs": [],
   "source": []
  },
  {
   "cell_type": "code",
   "execution_count": null,
   "metadata": {},
   "outputs": [],
   "source": [
    "#def bmse()\n",
    "\n",
    "\n",
    "latest = np.array( Image.open( os.path.join(dir_path,inp_files[-1]) ) )\n",
    "ground_truth = np.array( Image.open( os.path.join( dir_path, target_file ) ) )\n",
    "\n",
    "bmse = ((latest-ground_truth)**2).mean()\n",
    "print( \" Baseline MSE -  \", bmse )"
   ]
  },
  {
   "cell_type": "code",
   "execution_count": null,
   "metadata": {},
   "outputs": [],
   "source": []
  },
  {
   "cell_type": "code",
   "execution_count": null,
   "metadata": {},
   "outputs": [],
   "source": [
    "\"\"\"\n",
    "model= 'norm'\n",
    "inp = []\n",
    "mean, std=661.4041, 110.79243  #training mean std\n",
    "\n",
    "for files in inp_files:\n",
    "    inp.append(  np.array( Image.open( os.path.join(dir_path,files ) )) )\n",
    "\n",
    "inp = np.array(inp)\n",
    "inp = (inp-mean)/std\n",
    "inp = np.expand_dims(inp,axis=0)\n",
    "inp =np.reshape(inp, (inp.shape[0], inp.shape[1], inp.shape[2], inp.shape[3],1))\n",
    "inp.shape\n",
    "\n",
    "pred= Model.predict(inp)\n",
    "inp.shape,pred.shape\n",
    "\n",
    "pred= np.reshape(pred, (pred.shape[0],pred.shape[1],pred.shape[2]))\n",
    "output=pred[0]\n",
    "output = output*std + mean\n",
    "\n",
    "mse = ((output-ground_truth)**2).mean()\n",
    "print( \"Connvlstm MSE - \",mse )\n",
    "Image.fromarray(output).save(\"unet_pred.tif\")\"\"\"\n"
   ]
  },
  {
   "cell_type": "code",
   "execution_count": null,
   "metadata": {},
   "outputs": [],
   "source": [
    "\"\"\"\n",
    "0mn,mx = 519,948\n",
    "\n",
    "bmse = ((latest-ground_truth)**2).mean()\n",
    "scaled_latest = (latest - mn)/(mx-mn)\n",
    "scaled_ground_truth = ( ground_truth - mn )/( mx-mn )\n",
    "sbmse = (  ((scaled_latest - scaled_ground_truth)**2).mean()  )\n",
    "\n",
    "scaled_output = (output - mn)/(mx-mn)\n",
    "s_unet_mse = ( ((scaled_output - scaled_ground_truth)**2).mean() )\"\"\""
   ]
  }
 ],
 "metadata": {
  "kernelspec": {
   "display_name": "Python 3",
   "language": "python",
   "name": "python3"
  },
  "language_info": {
   "codemirror_mode": {
    "name": "ipython",
    "version": 3
   },
   "file_extension": ".py",
   "mimetype": "text/x-python",
   "name": "python",
   "nbconvert_exporter": "python",
   "pygments_lexer": "ipython3",
   "version": "3.6.9"
  },
  "varInspector": {
   "cols": {
    "lenName": 16,
    "lenType": 16,
    "lenVar": 40
   },
   "kernels_config": {
    "python": {
     "delete_cmd_postfix": "",
     "delete_cmd_prefix": "del ",
     "library": "var_list.py",
     "varRefreshCmd": "print(var_dic_list())"
    },
    "r": {
     "delete_cmd_postfix": ") ",
     "delete_cmd_prefix": "rm(",
     "library": "var_list.r",
     "varRefreshCmd": "cat(var_dic_list()) "
    }
   },
   "types_to_exclude": [
    "module",
    "function",
    "builtin_function_or_method",
    "instance",
    "_Feature"
   ],
   "window_display": false
  }
 },
 "nbformat": 4,
 "nbformat_minor": 4
}
