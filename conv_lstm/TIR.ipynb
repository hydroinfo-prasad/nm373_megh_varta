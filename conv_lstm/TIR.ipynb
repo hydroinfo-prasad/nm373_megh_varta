{
 "cells": [
  {
   "cell_type": "code",
   "execution_count": 1,
   "metadata": {},
   "outputs": [],
   "source": [
    "from PIL import Image\n",
    "import imutils\n",
    "import matplotlib.pyplot as plt\n",
    "from sklearn.utils import shuffle\n",
    "import numpy as np\n",
    "\n",
    "import tensorflow\n",
    "from tensorflow import keras\n",
    "from tensorflow.keras import layers\n",
    "from tensorflow.keras.models import Sequential\n",
    "\n",
    "from tensorflow.keras.layers import Input, Dense, MaxPooling2D, MaxPooling3D, Dropout, BatchNormalization, Flatten, Conv2D, Conv3D, AveragePooling3D, LSTM, Reshape\n",
    "\n",
    "from keras.layers.convolutional_recurrent import ConvLSTM2D\n",
    "\n",
    "import cv2\n",
    "from tensorflow.keras.callbacks import Callback\n",
    "from tensorflow.keras.layers import Conv2D, MaxPooling2D, Dropout, Dense, Flatten, UpSampling2D\n",
    "#from keras import backend as K\n",
    "from pathlib import Path\n",
    "import sys\n",
    "\n",
    "import numpy as np\n",
    "from matplotlib.pyplot import imshow, figure\n",
    "\n",
    "from tensorflow.keras.layers import Lambda, Reshape, Permute, Input, add, Conv3D\n",
    "from tensorflow.keras.models import Model\n",
    "import os\n",
    "from tensorflow.keras.callbacks import History \n",
    "\n",
    "#print(tf.__version__)\n",
    "\n",
    "from pre_process import Preprocessed_additional_data\n",
    "from pre_process import Preprocessed_1day_data"
   ]
  },
  {
   "cell_type": "code",
   "execution_count": 2,
   "metadata": {},
   "outputs": [],
   "source": [
    "path = \"/home/prasad/SIH/oct/tir/\"  \n",
    "path = \"/home/prasad/SIH/oct/vis/\n",
    "Oct = os.listdir( path )\n",
    "Oct=sorted(Oct)\n",
    "\n",
    "path2 = \"/home/prasad/SIH/nov_2019_data/tir/\"\n",
    "path2 = \"/home/prasad/SIH/nov_2019_data/vis/\"\n",
    "Nov = os.listdir( path2 )\n",
    "Nov=sorted(Nov)\n",
    "\n",
    "Oct = [ elem for elem in Oct if int(elem[18:20]) % 30 == 0] \n",
    "Nov     = [ elem for elem in Nov if int(elem[18:20]) % 30 == 0] \n",
    "Nov=np.array(Nov)\n",
    "Oct= np.array(Oct)\n",
    "\n",
    "End_index=np.where(Nov=='3DIMG_06NOV2019_2300_L1C_SGP_IMG_TIR1.tif')\n"
   ]
  },
  {
   "cell_type": "code",
   "execution_count": null,
   "metadata": {},
   "outputs": [],
   "source": [
    "X_train,y_train,X_val,y_val,mean,std_dev,verify=  Preprocessed_additional_data(normalization_type='zscore',path=\"/home/prasad/SIH/oct/tir/\",start_img_path=Oct[0], end_img_path=Oct[-1],inp_seq_len=3,pred_frame=1,normalized_output='no',Validation_split=None)"
   ]
  },
  {
   "cell_type": "code",
   "execution_count": null,
   "metadata": {},
   "outputs": [],
   "source": [
    "X_train1,y_train1,X_val1,y_val1,mean1,std_dev1,verify1=  Preprocessed_additional_data(normalization_type='zscore',path=\"/home/prasad/SIH/nov_2019_data/tir/\", start_img_path=Nov[0], end_img_path=Nov[End_index],inp_seq_len=3,pred_frame=1,normalized_output='no',Validation_split=0.1)\n"
   ]
  },
  {
   "cell_type": "code",
   "execution_count": null,
   "metadata": {},
   "outputs": [],
   "source": [
    "X_train=np.concatenate((X_train,X_train1), axis=0)\n",
    "y_train=np.concatenate((y_train,y_train1), axis=0)\n",
    "#X_val=np.concatenate((X_val,X_val1), axis=0)\n",
    "#y_val=np.concatenate((y_val,y_val1), axis=0)"
   ]
  },
  {
   "cell_type": "code",
   "execution_count": null,
   "metadata": {},
   "outputs": [],
   "source": [
    "\n",
    "height, width=X_train.shape[2], X_train.shape[3]   #model.save('conv_h984_w3_4_loss_1443.h5') model.save('conv_h984_w3_9_additionald_2_loss_tr1224_v651.h5')\n",
    "model = keras.Sequential(\n",
    "    [\n",
    "        keras.Input(\n",
    "            shape=(None, height, width, 1)\n",
    "        ),  # Variable-length sequence of 40x40x1 frames\n",
    "        layers.ConvLSTM2D(\n",
    "            filters=40, kernel_size=(5,5), padding=\"same\", return_sequences=False\n",
    "        ),\n",
    "        \n",
    "        layers.BatchNormalization(),\n",
    "        layers.Conv2D(\n",
    "            filters=10, kernel_size=(5,5), padding=\"same\"\n",
    "        ),\n",
    "        \n",
    "        layers.BatchNormalization(),\n",
    "        layers.Conv2D(\n",
    "            filters=5, kernel_size=(5,5), padding=\"same\"\n",
    "        ),\n",
    "        \n",
    "        layers.BatchNormalization(),\n",
    "        layers.Conv2D(\n",
    "            filters=1, kernel_size=(3,3), padding=\"same\"\n",
    "        ),\n",
    "    ]\n",
    ")\n",
    "\n",
    "print(model.summary())\n",
    "#print(model.summary())\n",
    "model.compile(loss='mean_squared_error', optimizer='adam')\n",
    "\n",
    "from tensorflow.keras.callbacks import EarlyStopping\n",
    "earlystop = EarlyStopping(\n",
    "                          monitor='loss',\n",
    "                          min_delta=0,\n",
    "                          patience=4,\n",
    "                          verbose=1,restore_best_weights=True)\n",
    "\n",
    "callbacks = [earlystop]\n",
    "print('len of X and y:',len(X), len(y))\n"
   ]
  },
  {
   "cell_type": "code",
   "execution_count": null,
   "metadata": {},
   "outputs": [],
   "source": [
    "model.fit(X_train, y_train ,batch_size=1,epochs=150,callbacks=callbacks,validation_data=(X_val, y_val))\n"
   ]
  },
  {
   "cell_type": "code",
   "execution_count": null,
   "metadata": {},
   "outputs": [],
   "source": [
    "model.save('conv_h984_w3_9_additionald_2_loss_tr1224_v651.h5') 350"
   ]
  },
  {
   "cell_type": "code",
   "execution_count": null,
   "metadata": {},
   "outputs": [],
   "source": [
    "\n",
    "height, width=X_norm.shape[2], X_norm.shape[3]   #model.save('conv_h984_w3_4_loss_1443.h5')  model.save('conv_h984_w3_9_additionald_loss_tr1278_v692.h5')\n",
    "model = keras.Sequential(\n",
    "    [\n",
    "        keras.Input(\n",
    "            shape=(None, height, width, 1)\n",
    "        ),  # Variable-length sequence of 40x40x1 frames\n",
    "        layers.ConvLSTM2D(\n",
    "            filters=40, kernel_size=(5,5), padding=\"same\", return_sequences=False\n",
    "        ),\n",
    "        \n",
    "        layers.BatchNormalization(),\n",
    "        layers.Conv2D(\n",
    "            filters=15, kernel_size=(5,5), padding=\"same\"\n",
    "        ),\n",
    "        layers.BatchNormalization(),\n",
    "        layers.Conv2D(\n",
    "            filters=1, kernel_size=(3,3), padding=\"same\"\n",
    "        ),\n",
    "    ]\n",
    ")\n",
    "\n",
    "print(model.summary())\n",
    "#print(model.summary())\n",
    "model.compile(loss='mean_squared_error', optimizer='adam')\n",
    "\n",
    "from tensorflow.keras.callbacks import EarlyStopping\n",
    "earlystop = EarlyStopping(\n",
    "                          monitor='loss',\n",
    "                          min_delta=0,\n",
    "                          patience=4,\n",
    "                          verbose=1,restore_best_weights=True)\n",
    "\n",
    "callbacks = [earlystop]\n",
    "print('len of X and y:',len(X), len(y))\n"
   ]
  },
  {
   "cell_type": "code",
   "execution_count": null,
   "metadata": {},
   "outputs": [],
   "source": [
    "model.fit(X_train, y_train ,batch_size=1,epochs=150,callbacks=callbacks,validation_data=(X_val, y_val))\n",
    "model.save('conv_h984_w3_9_additionald_loss_tr1278_v692.h5')"
   ]
  },
  {
   "cell_type": "code",
   "execution_count": null,
   "metadata": {},
   "outputs": [],
   "source": [
    "from tensorflow import keras\n",
    "model = keras.models.load_model(\"/home/prasad/convlstm/tuned_27_9_conv_h984_w3_9_additionald_2_loss_tr1224_v651.h5\" )"
   ]
  },
  {
   "cell_type": "code",
   "execution_count": null,
   "metadata": {},
   "outputs": [],
   "source": [
    "from tensorflow.keras.callbacks import EarlyStopping\n",
    "earlystop = EarlyStopping(\n",
    "                          monitor='loss',\n",
    "                          min_delta=0,\n",
    "                          patience=3,\n",
    "                          verbose=1,restore_best_weights=True)\n",
    "\n",
    "callbacks = [earlystop]"
   ]
  },
  {
   "cell_type": "code",
   "execution_count": null,
   "metadata": {},
   "outputs": [],
   "source": [
    "model.fit(X_train, y_train ,batch_size=1,epochs=150,callbacks=callbacks,validation_data=(X_val, y_val))\n"
   ]
  }
 ],
 "metadata": {
  "kernelspec": {
   "display_name": "Python 3",
   "language": "python",
   "name": "python3"
  },
  "language_info": {
   "codemirror_mode": {
    "name": "ipython",
    "version": 3
   },
   "file_extension": ".py",
   "mimetype": "text/x-python",
   "name": "python",
   "nbconvert_exporter": "python",
   "pygments_lexer": "ipython3",
   "version": "3.6.9"
  },
  "varInspector": {
   "cols": {
    "lenName": 16,
    "lenType": 16,
    "lenVar": 40
   },
   "kernels_config": {
    "python": {
     "delete_cmd_postfix": "",
     "delete_cmd_prefix": "del ",
     "library": "var_list.py",
     "varRefreshCmd": "print(var_dic_list())"
    },
    "r": {
     "delete_cmd_postfix": ") ",
     "delete_cmd_prefix": "rm(",
     "library": "var_list.r",
     "varRefreshCmd": "cat(var_dic_list()) "
    }
   },
   "types_to_exclude": [
    "module",
    "function",
    "builtin_function_or_method",
    "instance",
    "_Feature"
   ],
   "window_display": false
  }
 },
 "nbformat": 4,
 "nbformat_minor": 4
}
